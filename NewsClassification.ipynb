{
  "nbformat": 4,
  "nbformat_minor": 0,
  "metadata": {
    "colab": {
      "name": "NewsClassification.ipynb",
      "provenance": [],
      "collapsed_sections": [],
      "authorship_tag": "ABX9TyNm3kntUTq6vCSALa0DrUlz",
      "include_colab_link": true
    },
    "kernelspec": {
      "display_name": "Python 3",
      "name": "python3"
    },
    "language_info": {
      "name": "python"
    }
  },
  "cells": [
    {
      "cell_type": "markdown",
      "metadata": {
        "id": "view-in-github",
        "colab_type": "text"
      },
      "source": [
        "<a href=\"https://colab.research.google.com/github/VasundharaSK/NewsClassification/blob/main/NewsClassification.ipynb\" target=\"_parent\"><img src=\"https://colab.research.google.com/assets/colab-badge.svg\" alt=\"Open In Colab\"/></a>"
      ]
    },
    {
      "cell_type": "markdown",
      "metadata": {
        "id": "5cjQg4CX7u1P"
      },
      "source": [
        "Text classification is a supervised learning technique so we’ll need some labeled data to train our model. I’ll be using this public news classification dataset. It’s a manually labeled dataset of news articles which fit into one of 4 classes: Business, SciTech, Sports or World."
      ]
    },
    {
      "cell_type": "code",
      "metadata": {
        "id": "gcxcIs6a7xkI"
      },
      "source": [
        "import pandas as pd\n",
        "import numpy as np\n",
        "import json"
      ],
      "execution_count": 2,
      "outputs": []
    },
    {
      "cell_type": "code",
      "metadata": {
        "colab": {
          "resources": {
            "http://localhost:8080/nbextensions/google.colab/files.js": {
              "data": "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",
              "ok": true,
              "headers": [
                [
                  "content-type",
                  "application/javascript"
                ]
              ],
              "status": 200,
              "status_text": ""
            }
          },
          "base_uri": "https://localhost:8080/",
          "height": 73
        },
        "id": "VDFRiRjqwRK7",
        "outputId": "d499d9e2-cbce-4615-c08b-ad7c6be07e3e"
      },
      "source": [
        "from google.colab import files\n",
        "uploaded = files.upload()"
      ],
      "execution_count": 3,
      "outputs": [
        {
          "output_type": "display_data",
          "data": {
            "text/html": [
              "\n",
              "     <input type=\"file\" id=\"files-706b2598-f241-4dcf-82ab-b6b2257ed806\" name=\"files[]\" multiple disabled\n",
              "        style=\"border:none\" />\n",
              "     <output id=\"result-706b2598-f241-4dcf-82ab-b6b2257ed806\">\n",
              "      Upload widget is only available when the cell has been executed in the\n",
              "      current browser session. Please rerun this cell to enable.\n",
              "      </output>\n",
              "      <script src=\"/nbextensions/google.colab/files.js\"></script> "
            ],
            "text/plain": [
              "<IPython.core.display.HTML object>"
            ]
          },
          "metadata": {
            "tags": []
          }
        },
        {
          "output_type": "stream",
          "text": [
            "Saving nlp_utils_news.ipynb to nlp_utils_news (1).ipynb\n"
          ],
          "name": "stdout"
        }
      ]
    },
    {
      "cell_type": "code",
      "metadata": {
        "id": "p347LY6M79hL"
      },
      "source": [
        "#Loading additional helper functions not shown here but provided in the folder\n",
        "%run nlp_utils_news.ipynb\n",
        "\n",
        "'''Features'''\n",
        "from sklearn.preprocessing import LabelEncoder\n",
        "from sklearn.feature_extraction.text import TfidfVectorizer\n",
        "from sklearn.decomposition import TruncatedSVD\n",
        "from sklearn.preprocessing import label_binarize"
      ],
      "execution_count": null,
      "outputs": []
    },
    {
      "cell_type": "code",
      "metadata": {
        "id": "7p56S7zJwYoe"
      },
      "source": [
        "'''Classifiers'''\n",
        "from sklearn.dummy import DummyClassifier\n",
        "from sklearn.linear_model import SGDClassifier\n",
        "from sklearn.naive_bayes import GaussianNB\n",
        "from sklearn.tree import DecisionTreeClassifier\n",
        "from sklearn.ensemble import RandomForestClassifier, AdaBoostClassifier\n",
        "from sklearn.neighbors import KNeighborsClassifier\n",
        "from sklearn.multiclass import OneVsRestClassifier\n",
        "\n",
        "'''Metrics/Evaluation'''\n",
        "from sklearn.model_selection import train_test_split\n",
        "from sklearn.model_selection import GridSearchCV\n",
        "from sklearn.metrics import accuracy_score, precision_score, recall_score, f1_score, roc_curve, auc, confusion_matrix\n",
        "from scipy import interp\n",
        "from itertools import cycle\n",
        "\n",
        "'''Plotting'''\n",
        "import matplotlib.pyplot as plt\n",
        "import seaborn as sns\n",
        "sns.set_style('darkgrid')\n",
        "\n",
        "'''Display'''\n",
        "from IPython.core.display import display, HTML\n",
        "display(HTML(\"<style>.container { width:95% !important; }</style>\"))\n",
        "import warnings\n",
        "import pandas as pd\n",
        "warnings.filterwarnings('ignore')\n",
        "pd.options.display.float_format = '{:,.2f}'.format"
      ],
      "execution_count": null,
      "outputs": []
    },
    {
      "cell_type": "code",
      "metadata": {
        "id": "tu17jqcUwtbx",
        "colab": {
          "resources": {
            "http://localhost:8080/nbextensions/google.colab/files.js": {
              "data": "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",
              "ok": true,
              "headers": [
                [
                  "content-type",
                  "application/javascript"
                ]
              ],
              "status": 200,
              "status_text": ""
            }
          },
          "base_uri": "https://localhost:8080/",
          "height": 73
        },
        "outputId": "8af7a052-f0c4-4ed2-fff2-49f6a21b16bc"
      },
      "source": [
        "from google.colab import files\n",
        "uploaded = files.upload()"
      ],
      "execution_count": 9,
      "outputs": [
        {
          "output_type": "display_data",
          "data": {
            "text/html": [
              "\n",
              "     <input type=\"file\" id=\"files-e08db112-ff46-4527-92b3-83702029667b\" name=\"files[]\" multiple disabled\n",
              "        style=\"border:none\" />\n",
              "     <output id=\"result-e08db112-ff46-4527-92b3-83702029667b\">\n",
              "      Upload widget is only available when the cell has been executed in the\n",
              "      current browser session. Please rerun this cell to enable.\n",
              "      </output>\n",
              "      <script src=\"/nbextensions/google.colab/files.js\"></script> "
            ],
            "text/plain": [
              "<IPython.core.display.HTML object>"
            ]
          },
          "metadata": {
            "tags": []
          }
        },
        {
          "output_type": "stream",
          "text": [
            "Saving News Classification DataSet.json to News Classification DataSet.json\n"
          ],
          "name": "stdout"
        }
      ]
    },
    {
      "cell_type": "code",
      "metadata": {
        "id": "bYA34QGgxRBX",
        "colab": {
          "base_uri": "https://localhost:8080/",
          "height": 205
        },
        "outputId": "91f39268-8a36-4cc5-bba3-5dee6938e425"
      },
      "source": [
        "#Load the JSON Data into a df\n",
        "\n",
        "data = []\n",
        "\n",
        "for line in open(r'News Classification DataSet.json', 'r'):\n",
        "    data.append(json.loads(line))\n",
        "\n",
        "content, label = [], []\n",
        "for each in data:\n",
        "    content.append(each['content'])\n",
        "    label.append(each['annotation']['label'][0])\n",
        "\n",
        "df = pd.DataFrame([content, label]).T\n",
        "df.columns= ['content', 'label']\n",
        "df.head()"
      ],
      "execution_count": 10,
      "outputs": [
        {
          "output_type": "execute_result",
          "data": {
            "text/html": [
              "<div>\n",
              "<style scoped>\n",
              "    .dataframe tbody tr th:only-of-type {\n",
              "        vertical-align: middle;\n",
              "    }\n",
              "\n",
              "    .dataframe tbody tr th {\n",
              "        vertical-align: top;\n",
              "    }\n",
              "\n",
              "    .dataframe thead th {\n",
              "        text-align: right;\n",
              "    }\n",
              "</style>\n",
              "<table border=\"1\" class=\"dataframe\">\n",
              "  <thead>\n",
              "    <tr style=\"text-align: right;\">\n",
              "      <th></th>\n",
              "      <th>content</th>\n",
              "      <th>label</th>\n",
              "    </tr>\n",
              "  </thead>\n",
              "  <tbody>\n",
              "    <tr>\n",
              "      <th>0</th>\n",
              "      <td>Unions representing workers at Turner   Newall...</td>\n",
              "      <td>Business</td>\n",
              "    </tr>\n",
              "    <tr>\n",
              "      <th>1</th>\n",
              "      <td>SPACE.com - TORONTO, Canada -- A second\\team o...</td>\n",
              "      <td>SciTech</td>\n",
              "    </tr>\n",
              "    <tr>\n",
              "      <th>2</th>\n",
              "      <td>AP - A company founded by a chemistry research...</td>\n",
              "      <td>SciTech</td>\n",
              "    </tr>\n",
              "    <tr>\n",
              "      <th>3</th>\n",
              "      <td>AP - It's barely dawn when Mike Fitzpatrick st...</td>\n",
              "      <td>SciTech</td>\n",
              "    </tr>\n",
              "    <tr>\n",
              "      <th>4</th>\n",
              "      <td>AP - Southern California's smog-fighting agenc...</td>\n",
              "      <td>SciTech</td>\n",
              "    </tr>\n",
              "  </tbody>\n",
              "</table>\n",
              "</div>"
            ],
            "text/plain": [
              "                                             content     label\n",
              "0  Unions representing workers at Turner   Newall...  Business\n",
              "1  SPACE.com - TORONTO, Canada -- A second\\team o...   SciTech\n",
              "2  AP - A company founded by a chemistry research...   SciTech\n",
              "3  AP - It's barely dawn when Mike Fitzpatrick st...   SciTech\n",
              "4  AP - Southern California's smog-fighting agenc...   SciTech"
            ]
          },
          "metadata": {
            "tags": []
          },
          "execution_count": 10
        }
      ]
    },
    {
      "cell_type": "code",
      "metadata": {
        "id": "rEtOnhsPC5Xy",
        "colab": {
          "base_uri": "https://localhost:8080/"
        },
        "outputId": "d11bce40-deb2-4ac4-a33a-6868aa0825fc"
      },
      "source": [
        "import nltk\n",
        "nltk.download('averaged_perceptron_tagger')\n",
        "nltk.download('wordnet')"
      ],
      "execution_count": 11,
      "outputs": [
        {
          "output_type": "stream",
          "text": [
            "[nltk_data] Downloading package averaged_perceptron_tagger to\n",
            "[nltk_data]     /root/nltk_data...\n",
            "[nltk_data]   Unzipping taggers/averaged_perceptron_tagger.zip.\n",
            "[nltk_data] Downloading package wordnet to /root/nltk_data...\n",
            "[nltk_data]   Unzipping corpora/wordnet.zip.\n"
          ],
          "name": "stdout"
        },
        {
          "output_type": "execute_result",
          "data": {
            "text/plain": [
              "True"
            ]
          },
          "metadata": {
            "tags": []
          },
          "execution_count": 11
        }
      ]
    },
    {
      "cell_type": "code",
      "metadata": {
        "id": "8RTEV5SiC5zt",
        "colab": {
          "base_uri": "https://localhost:8080/",
          "height": 205
        },
        "outputId": "33411137-1a4b-4932-9881-93bbe9b17ff7"
      },
      "source": [
        "#Apply the function to preprocess the text. Tokenize, lower, expand contactions, lemmatize, remove punctuation, numbers and stop words\n",
        "#process_text is defined in other code which is imported \n",
        "df['clean_text'] = df['content'].apply(process_text)\n",
        "df.head()"
      ],
      "execution_count": 12,
      "outputs": [
        {
          "output_type": "execute_result",
          "data": {
            "text/html": [
              "<div>\n",
              "<style scoped>\n",
              "    .dataframe tbody tr th:only-of-type {\n",
              "        vertical-align: middle;\n",
              "    }\n",
              "\n",
              "    .dataframe tbody tr th {\n",
              "        vertical-align: top;\n",
              "    }\n",
              "\n",
              "    .dataframe thead th {\n",
              "        text-align: right;\n",
              "    }\n",
              "</style>\n",
              "<table border=\"1\" class=\"dataframe\">\n",
              "  <thead>\n",
              "    <tr style=\"text-align: right;\">\n",
              "      <th></th>\n",
              "      <th>content</th>\n",
              "      <th>label</th>\n",
              "      <th>clean_text</th>\n",
              "    </tr>\n",
              "  </thead>\n",
              "  <tbody>\n",
              "    <tr>\n",
              "      <th>0</th>\n",
              "      <td>Unions representing workers at Turner   Newall...</td>\n",
              "      <td>Business</td>\n",
              "      <td>[union, represent, worker, turner, newall, dis...</td>\n",
              "    </tr>\n",
              "    <tr>\n",
              "      <th>1</th>\n",
              "      <td>SPACE.com - TORONTO, Canada -- A second\\team o...</td>\n",
              "      <td>SciTech</td>\n",
              "      <td>[space.com, toronto, canada, second, team, roc...</td>\n",
              "    </tr>\n",
              "    <tr>\n",
              "      <th>2</th>\n",
              "      <td>AP - A company founded by a chemistry research...</td>\n",
              "      <td>SciTech</td>\n",
              "      <td>[company, chemistry, researcher, university, l...</td>\n",
              "    </tr>\n",
              "    <tr>\n",
              "      <th>3</th>\n",
              "      <td>AP - It's barely dawn when Mike Fitzpatrick st...</td>\n",
              "      <td>SciTech</td>\n",
              "      <td>[it is, barely, dawn, mike, fitzpatrick, start...</td>\n",
              "    </tr>\n",
              "    <tr>\n",
              "      <th>4</th>\n",
              "      <td>AP - Southern California's smog-fighting agenc...</td>\n",
              "      <td>SciTech</td>\n",
              "      <td>[southern, california's, smog-fighting, agency...</td>\n",
              "    </tr>\n",
              "  </tbody>\n",
              "</table>\n",
              "</div>"
            ],
            "text/plain": [
              "                                             content  ...                                         clean_text\n",
              "0  Unions representing workers at Turner   Newall...  ...  [union, represent, worker, turner, newall, dis...\n",
              "1  SPACE.com - TORONTO, Canada -- A second\\team o...  ...  [space.com, toronto, canada, second, team, roc...\n",
              "2  AP - A company founded by a chemistry research...  ...  [company, chemistry, researcher, university, l...\n",
              "3  AP - It's barely dawn when Mike Fitzpatrick st...  ...  [it is, barely, dawn, mike, fitzpatrick, start...\n",
              "4  AP - Southern California's smog-fighting agenc...  ...  [southern, california's, smog-fighting, agency...\n",
              "\n",
              "[5 rows x 3 columns]"
            ]
          },
          "metadata": {
            "tags": []
          },
          "execution_count": 12
        }
      ]
    },
    {
      "cell_type": "code",
      "metadata": {
        "id": "pVxqPDoLFpAK",
        "colab": {
          "base_uri": "https://localhost:8080/",
          "height": 675
        },
        "outputId": "de5304a4-6d15-4b16-bc3f-d601b50bd6c7"
      },
      "source": [
        "#Top 20 most frequent words for all the articles\n",
        "#word_freq is defined in nlp_utils_news.ipynb\n",
        "cl_text_list = df['clean_text'].tolist()\n",
        "wf = word_freq(cl_text_list, 20)\n",
        "wf.head(20)"
      ],
      "execution_count": 13,
      "outputs": [
        {
          "output_type": "execute_result",
          "data": {
            "text/html": [
              "<div>\n",
              "<style scoped>\n",
              "    .dataframe tbody tr th:only-of-type {\n",
              "        vertical-align: middle;\n",
              "    }\n",
              "\n",
              "    .dataframe tbody tr th {\n",
              "        vertical-align: top;\n",
              "    }\n",
              "\n",
              "    .dataframe thead th {\n",
              "        text-align: right;\n",
              "    }\n",
              "</style>\n",
              "<table border=\"1\" class=\"dataframe\">\n",
              "  <thead>\n",
              "    <tr style=\"text-align: right;\">\n",
              "      <th></th>\n",
              "      <th>0</th>\n",
              "      <th>1</th>\n",
              "    </tr>\n",
              "  </thead>\n",
              "  <tbody>\n",
              "    <tr>\n",
              "      <th>0</th>\n",
              "      <td>new</td>\n",
              "      <td>1077</td>\n",
              "    </tr>\n",
              "    <tr>\n",
              "      <th>1</th>\n",
              "      <td>reuters</td>\n",
              "      <td>793</td>\n",
              "    </tr>\n",
              "    <tr>\n",
              "      <th>2</th>\n",
              "      <td>year</td>\n",
              "      <td>699</td>\n",
              "    </tr>\n",
              "    <tr>\n",
              "      <th>3</th>\n",
              "      <td>company</td>\n",
              "      <td>590</td>\n",
              "    </tr>\n",
              "    <tr>\n",
              "      <th>4</th>\n",
              "      <td>quot</td>\n",
              "      <td>551</td>\n",
              "    </tr>\n",
              "    <tr>\n",
              "      <th>5</th>\n",
              "      <td>monday</td>\n",
              "      <td>498</td>\n",
              "    </tr>\n",
              "    <tr>\n",
              "      <th>6</th>\n",
              "      <td>tuesday</td>\n",
              "      <td>497</td>\n",
              "    </tr>\n",
              "    <tr>\n",
              "      <th>7</th>\n",
              "      <td>thursday</td>\n",
              "      <td>458</td>\n",
              "    </tr>\n",
              "    <tr>\n",
              "      <th>8</th>\n",
              "      <td>wednesday</td>\n",
              "      <td>447</td>\n",
              "    </tr>\n",
              "    <tr>\n",
              "      <th>9</th>\n",
              "      <td>win</td>\n",
              "      <td>418</td>\n",
              "    </tr>\n",
              "    <tr>\n",
              "      <th>10</th>\n",
              "      <td>friday</td>\n",
              "      <td>407</td>\n",
              "    </tr>\n",
              "    <tr>\n",
              "      <th>11</th>\n",
              "      <td>world</td>\n",
              "      <td>397</td>\n",
              "    </tr>\n",
              "    <tr>\n",
              "      <th>12</th>\n",
              "      <td>state</td>\n",
              "      <td>392</td>\n",
              "    </tr>\n",
              "    <tr>\n",
              "      <th>13</th>\n",
              "      <td>make</td>\n",
              "      <td>378</td>\n",
              "    </tr>\n",
              "    <tr>\n",
              "      <th>14</th>\n",
              "      <td>week</td>\n",
              "      <td>373</td>\n",
              "    </tr>\n",
              "    <tr>\n",
              "      <th>15</th>\n",
              "      <td>york</td>\n",
              "      <td>372</td>\n",
              "    </tr>\n",
              "    <tr>\n",
              "      <th>16</th>\n",
              "      <td>report</td>\n",
              "      <td>368</td>\n",
              "    </tr>\n",
              "    <tr>\n",
              "      <th>17</th>\n",
              "      <td>game</td>\n",
              "      <td>357</td>\n",
              "    </tr>\n",
              "    <tr>\n",
              "      <th>18</th>\n",
              "      <td>million</td>\n",
              "      <td>351</td>\n",
              "    </tr>\n",
              "    <tr>\n",
              "      <th>19</th>\n",
              "      <td>yesterday</td>\n",
              "      <td>343</td>\n",
              "    </tr>\n",
              "  </tbody>\n",
              "</table>\n",
              "</div>"
            ],
            "text/plain": [
              "            0     1\n",
              "0         new  1077\n",
              "1     reuters   793\n",
              "2        year   699\n",
              "3     company   590\n",
              "4        quot   551\n",
              "5      monday   498\n",
              "6     tuesday   497\n",
              "7    thursday   458\n",
              "8   wednesday   447\n",
              "9         win   418\n",
              "10     friday   407\n",
              "11      world   397\n",
              "12      state   392\n",
              "13       make   378\n",
              "14       week   373\n",
              "15       york   372\n",
              "16     report   368\n",
              "17       game   357\n",
              "18    million   351\n",
              "19  yesterday   343"
            ]
          },
          "metadata": {
            "tags": []
          },
          "execution_count": 13
        }
      ]
    },
    {
      "cell_type": "code",
      "metadata": {
        "id": "Jhp1Ryt9GHrj",
        "colab": {
          "base_uri": "https://localhost:8080/",
          "height": 175
        },
        "outputId": "83e4d6ac-243f-4da3-f256-065142887001"
      },
      "source": [
        "#Avg word count by category\n",
        "#word_count is defined in nlp_utils_news.ipynb\n",
        "df['word_count'] = df['content'].apply(word_count)\n",
        "avg_wc = df.groupby('label').mean().reset_index()\n",
        "avg_wc[['label','word_count']]"
      ],
      "execution_count": 14,
      "outputs": [
        {
          "output_type": "execute_result",
          "data": {
            "text/html": [
              "<div>\n",
              "<style scoped>\n",
              "    .dataframe tbody tr th:only-of-type {\n",
              "        vertical-align: middle;\n",
              "    }\n",
              "\n",
              "    .dataframe tbody tr th {\n",
              "        vertical-align: top;\n",
              "    }\n",
              "\n",
              "    .dataframe thead th {\n",
              "        text-align: right;\n",
              "    }\n",
              "</style>\n",
              "<table border=\"1\" class=\"dataframe\">\n",
              "  <thead>\n",
              "    <tr style=\"text-align: right;\">\n",
              "      <th></th>\n",
              "      <th>label</th>\n",
              "      <th>word_count</th>\n",
              "    </tr>\n",
              "  </thead>\n",
              "  <tbody>\n",
              "    <tr>\n",
              "      <th>0</th>\n",
              "      <td>Business</td>\n",
              "      <td>31.36</td>\n",
              "    </tr>\n",
              "    <tr>\n",
              "      <th>1</th>\n",
              "      <td>SciTech</td>\n",
              "      <td>30.77</td>\n",
              "    </tr>\n",
              "    <tr>\n",
              "      <th>2</th>\n",
              "      <td>Sports</td>\n",
              "      <td>31.35</td>\n",
              "    </tr>\n",
              "    <tr>\n",
              "      <th>3</th>\n",
              "      <td>World</td>\n",
              "      <td>31.74</td>\n",
              "    </tr>\n",
              "  </tbody>\n",
              "</table>\n",
              "</div>"
            ],
            "text/plain": [
              "      label  word_count\n",
              "0  Business       31.36\n",
              "1   SciTech       30.77\n",
              "2    Sports       31.35\n",
              "3     World       31.74"
            ]
          },
          "metadata": {
            "tags": []
          },
          "execution_count": 14
        }
      ]
    },
    {
      "cell_type": "code",
      "metadata": {
        "id": "iNwp_DpbGwqO"
      },
      "source": [
        "#Preparing the dataframes\n",
        "\n",
        "#Splitting the df into the different categories\n",
        "df_business = df.loc[df['label'] == 'Business'] \n",
        "df_sports = df.loc[df['label'] =='Sports']\n",
        "df_scitech = df.loc[df['label'] == 'SciTech'] \n",
        "df_world = df.loc[df['label'] =='World']"
      ],
      "execution_count": 15,
      "outputs": []
    },
    {
      "cell_type": "code",
      "metadata": {
        "id": "z_HWlTP9mzMx",
        "colab": {
          "base_uri": "https://localhost:8080/"
        },
        "outputId": "e358bcd1-fe71-4294-e15b-d6e5dc02d11b"
      },
      "source": [
        "df_scitech.shape"
      ],
      "execution_count": 16,
      "outputs": [
        {
          "output_type": "execute_result",
          "data": {
            "text/plain": [
              "(1900, 4)"
            ]
          },
          "metadata": {
            "tags": []
          },
          "execution_count": 16
        }
      ]
    },
    {
      "cell_type": "code",
      "metadata": {
        "id": "FO49G5VPm36q",
        "colab": {
          "base_uri": "https://localhost:8080/"
        },
        "outputId": "161d5d78-b696-475f-9655-c197970c345f"
      },
      "source": [
        "df_world.shape"
      ],
      "execution_count": 17,
      "outputs": [
        {
          "output_type": "execute_result",
          "data": {
            "text/plain": [
              "(1900, 4)"
            ]
          },
          "metadata": {
            "tags": []
          },
          "execution_count": 17
        }
      ]
    },
    {
      "cell_type": "code",
      "metadata": {
        "id": "RYJFLqd3muud",
        "colab": {
          "base_uri": "https://localhost:8080/"
        },
        "outputId": "9036258b-0ba1-4ac8-f9b2-a75df2caa8b9"
      },
      "source": [
        "df_sports.shape"
      ],
      "execution_count": 18,
      "outputs": [
        {
          "output_type": "execute_result",
          "data": {
            "text/plain": [
              "(1900, 4)"
            ]
          },
          "metadata": {
            "tags": []
          },
          "execution_count": 18
        }
      ]
    },
    {
      "cell_type": "code",
      "metadata": {
        "id": "BLg7EankFQZa",
        "colab": {
          "base_uri": "https://localhost:8080/"
        },
        "outputId": "1b5564ba-6d98-42e7-e21d-c74fd4575792"
      },
      "source": [
        "df_business.shape"
      ],
      "execution_count": 19,
      "outputs": [
        {
          "output_type": "execute_result",
          "data": {
            "text/plain": [
              "(1900, 4)"
            ]
          },
          "metadata": {
            "tags": []
          },
          "execution_count": 19
        }
      ]
    },
    {
      "cell_type": "code",
      "metadata": {
        "id": "uds3l5YbnTAB"
      },
      "source": [
        "#Randomly sampling business and sports to create imbalanced classes\n",
        "df_business = df_business.sample(n=1005, random_state=3)\n",
        "df_sports = df_sports.sample(n=805, random_state=3)"
      ],
      "execution_count": 20,
      "outputs": []
    },
    {
      "cell_type": "code",
      "metadata": {
        "id": "YOGHh_WinkFI"
      },
      "source": [
        "#Holding out 5 articles from each class for prediction at the end\n",
        "df_business_holdout = df_business.iloc[:5]\n",
        "df_sports_holdout = df_sports.iloc[:5]\n",
        "df_scitech_holdout = df_scitech.iloc[:5]\n",
        "df_world_holdout = df_world.iloc[:5]\n",
        "\n",
        "df_business = df_business.iloc[5:]\n",
        "df_sports = df_sports.iloc[5:]\n",
        "df_scitech = df_scitech.iloc[5:]\n",
        "df_world = df_world.iloc[5:]"
      ],
      "execution_count": 21,
      "outputs": []
    },
    {
      "cell_type": "code",
      "metadata": {
        "id": "yTHlaxxCoCFp"
      },
      "source": [
        "#Appending the dfs back together\n",
        "df = pd.concat([df_business, df_sports, df_scitech, df_world])\n",
        "df_holdout = pd.concat([df_business_holdout, df_sports_holdout, df_scitech_holdout, df_world_holdout])"
      ],
      "execution_count": 22,
      "outputs": []
    },
    {
      "cell_type": "code",
      "metadata": {
        "id": "DbwSSywJoDe5"
      },
      "source": [
        "#Turning the labels into numbers\n",
        "LE = LabelEncoder()\n",
        "df['label_num'] = LE.fit_transform(df['label'])"
      ],
      "execution_count": 23,
      "outputs": []
    },
    {
      "cell_type": "code",
      "metadata": {
        "id": "zAcu0jX8oIma",
        "colab": {
          "base_uri": "https://localhost:8080/",
          "height": 272
        },
        "outputId": "0348adc3-c2c3-460e-95b7-e80e7e00d21a"
      },
      "source": [
        "display(df.groupby(['label'])['content'].count())\n",
        "display(df_holdout.groupby(['label'])['content'].count())\n",
        "display(df['label'].unique())\n",
        "display(df['label_num'].unique())"
      ],
      "execution_count": 24,
      "outputs": [
        {
          "output_type": "display_data",
          "data": {
            "text/plain": [
              "label\n",
              "Business    1000\n",
              "SciTech     1895\n",
              "Sports       800\n",
              "World       1895\n",
              "Name: content, dtype: int64"
            ]
          },
          "metadata": {
            "tags": []
          }
        },
        {
          "output_type": "display_data",
          "data": {
            "text/plain": [
              "label\n",
              "Business    5\n",
              "SciTech     5\n",
              "Sports      5\n",
              "World       5\n",
              "Name: content, dtype: int64"
            ]
          },
          "metadata": {
            "tags": []
          }
        },
        {
          "output_type": "display_data",
          "data": {
            "text/plain": [
              "array(['Business', 'Sports', 'SciTech', 'World'], dtype=object)"
            ]
          },
          "metadata": {
            "tags": []
          }
        },
        {
          "output_type": "display_data",
          "data": {
            "text/plain": [
              "array([0, 2, 1, 3])"
            ]
          },
          "metadata": {
            "tags": []
          }
        }
      ]
    },
    {
      "cell_type": "code",
      "metadata": {
        "id": "ZVlzIOgDoXww",
        "colab": {
          "base_uri": "https://localhost:8080/",
          "height": 518
        },
        "outputId": "1e7ecbca-af29-42e0-8d75-10d922a149cf"
      },
      "source": [
        "#Top 15 words by category. Taking bigrams into account\n",
        "\n",
        "\n",
        "top_n = 15\n",
        "text_bus = df_business['clean_text'].tolist()\n",
        "text_sci_t = df_scitech['clean_text'].tolist()\n",
        "text_sports = df_sports['clean_text'].tolist()\n",
        "text_world = df_world['clean_text'].tolist()\n",
        "\n",
        "#word_freq_bigrams imported from nl_utils_news.ipynb\n",
        "\n",
        "bus = word_freq_bigrams(text_bus, top_n=top_n)\n",
        "sci_t = word_freq_bigrams(text_sci_t, top_n=top_n)\n",
        "sports = word_freq_bigrams(text_sports, top_n=top_n)\n",
        "world = word_freq_bigrams(text_world, top_n=top_n)\n",
        "\n",
        "df_wf = pd.concat([bus, sci_t, sports, world], axis=1)\n",
        "cols = ['business', 'count', 'sci tech', 'count', 'sports', 'count', 'world', 'count']\n",
        "df_wf.columns = cols\n",
        "df_wf"
      ],
      "execution_count": 25,
      "outputs": [
        {
          "output_type": "execute_result",
          "data": {
            "text/html": [
              "<div>\n",
              "<style scoped>\n",
              "    .dataframe tbody tr th:only-of-type {\n",
              "        vertical-align: middle;\n",
              "    }\n",
              "\n",
              "    .dataframe tbody tr th {\n",
              "        vertical-align: top;\n",
              "    }\n",
              "\n",
              "    .dataframe thead th {\n",
              "        text-align: right;\n",
              "    }\n",
              "</style>\n",
              "<table border=\"1\" class=\"dataframe\">\n",
              "  <thead>\n",
              "    <tr style=\"text-align: right;\">\n",
              "      <th></th>\n",
              "      <th>business</th>\n",
              "      <th>count</th>\n",
              "      <th>sci tech</th>\n",
              "      <th>count</th>\n",
              "      <th>sports</th>\n",
              "      <th>count</th>\n",
              "      <th>world</th>\n",
              "      <th>count</th>\n",
              "    </tr>\n",
              "  </thead>\n",
              "  <tbody>\n",
              "    <tr>\n",
              "      <th>0</th>\n",
              "      <td>company</td>\n",
              "      <td>125</td>\n",
              "      <td>new</td>\n",
              "      <td>186</td>\n",
              "      <td>win</td>\n",
              "      <td>99</td>\n",
              "      <td>monday</td>\n",
              "      <td>129</td>\n",
              "    </tr>\n",
              "    <tr>\n",
              "      <th>1</th>\n",
              "      <td>new_york</td>\n",
              "      <td>111</td>\n",
              "      <td>company</td>\n",
              "      <td>180</td>\n",
              "      <td>game</td>\n",
              "      <td>97</td>\n",
              "      <td>reuters</td>\n",
              "      <td>119</td>\n",
              "    </tr>\n",
              "    <tr>\n",
              "      <th>2</th>\n",
              "      <td>year</td>\n",
              "      <td>90</td>\n",
              "      <td>quot</td>\n",
              "      <td>132</td>\n",
              "      <td>team</td>\n",
              "      <td>78</td>\n",
              "      <td>tuesday</td>\n",
              "      <td>118</td>\n",
              "    </tr>\n",
              "    <tr>\n",
              "      <th>3</th>\n",
              "      <td>reuters</td>\n",
              "      <td>81</td>\n",
              "      <td>software</td>\n",
              "      <td>123</td>\n",
              "      <td>season</td>\n",
              "      <td>68</td>\n",
              "      <td>friday</td>\n",
              "      <td>116</td>\n",
              "    </tr>\n",
              "    <tr>\n",
              "      <th>4</th>\n",
              "      <td>tuesday</td>\n",
              "      <td>75</td>\n",
              "      <td>microsoft</td>\n",
              "      <td>106</td>\n",
              "      <td>victory</td>\n",
              "      <td>57</td>\n",
              "      <td>iraq</td>\n",
              "      <td>115</td>\n",
              "    </tr>\n",
              "    <tr>\n",
              "      <th>5</th>\n",
              "      <td>wednesday</td>\n",
              "      <td>72</td>\n",
              "      <td>technology</td>\n",
              "      <td>106</td>\n",
              "      <td>play</td>\n",
              "      <td>56</td>\n",
              "      <td>quot</td>\n",
              "      <td>105</td>\n",
              "    </tr>\n",
              "    <tr>\n",
              "      <th>6</th>\n",
              "      <td>thursday</td>\n",
              "      <td>65</td>\n",
              "      <td>make</td>\n",
              "      <td>103</td>\n",
              "      <td>sunday</td>\n",
              "      <td>54</td>\n",
              "      <td>wednesday</td>\n",
              "      <td>105</td>\n",
              "    </tr>\n",
              "    <tr>\n",
              "      <th>7</th>\n",
              "      <td>new</td>\n",
              "      <td>64</td>\n",
              "      <td>use</td>\n",
              "      <td>102</td>\n",
              "      <td>year</td>\n",
              "      <td>54</td>\n",
              "      <td>official</td>\n",
              "      <td>104</td>\n",
              "    </tr>\n",
              "    <tr>\n",
              "      <th>8</th>\n",
              "      <td>share</td>\n",
              "      <td>63</td>\n",
              "      <td>year</td>\n",
              "      <td>100</td>\n",
              "      <td>run</td>\n",
              "      <td>44</td>\n",
              "      <td>country</td>\n",
              "      <td>103</td>\n",
              "    </tr>\n",
              "    <tr>\n",
              "      <th>9</th>\n",
              "      <td>report</td>\n",
              "      <td>59</td>\n",
              "      <td>reuters</td>\n",
              "      <td>100</td>\n",
              "      <td>new_york</td>\n",
              "      <td>44</td>\n",
              "      <td>leader</td>\n",
              "      <td>102</td>\n",
              "    </tr>\n",
              "    <tr>\n",
              "      <th>10</th>\n",
              "      <td>price</td>\n",
              "      <td>59</td>\n",
              "      <td>service</td>\n",
              "      <td>100</td>\n",
              "      <td>make</td>\n",
              "      <td>44</td>\n",
              "      <td>thursday</td>\n",
              "      <td>99</td>\n",
              "    </tr>\n",
              "    <tr>\n",
              "      <th>11</th>\n",
              "      <td>yesterday</td>\n",
              "      <td>58</td>\n",
              "      <td>internet</td>\n",
              "      <td>88</td>\n",
              "      <td>lead</td>\n",
              "      <td>43</td>\n",
              "      <td>sunday</td>\n",
              "      <td>97</td>\n",
              "    </tr>\n",
              "    <tr>\n",
              "      <th>12</th>\n",
              "      <td>quot</td>\n",
              "      <td>56</td>\n",
              "      <td>launch</td>\n",
              "      <td>83</td>\n",
              "      <td>quot</td>\n",
              "      <td>43</td>\n",
              "      <td>government</td>\n",
              "      <td>94</td>\n",
              "    </tr>\n",
              "    <tr>\n",
              "      <th>13</th>\n",
              "      <td>monday</td>\n",
              "      <td>56</td>\n",
              "      <td>tuesday</td>\n",
              "      <td>82</td>\n",
              "      <td>time</td>\n",
              "      <td>41</td>\n",
              "      <td>new</td>\n",
              "      <td>92</td>\n",
              "    </tr>\n",
              "    <tr>\n",
              "      <th>14</th>\n",
              "      <td>sale</td>\n",
              "      <td>54</td>\n",
              "      <td>market</td>\n",
              "      <td>77</td>\n",
              "      <td>yesterday</td>\n",
              "      <td>41</td>\n",
              "      <td>yesterday</td>\n",
              "      <td>90</td>\n",
              "    </tr>\n",
              "  </tbody>\n",
              "</table>\n",
              "</div>"
            ],
            "text/plain": [
              "     business count    sci tech count     sports count       world count\n",
              "0     company   125         new   186        win    99      monday   129\n",
              "1    new_york   111     company   180       game    97     reuters   119\n",
              "2        year    90        quot   132       team    78     tuesday   118\n",
              "3     reuters    81    software   123     season    68      friday   116\n",
              "4     tuesday    75   microsoft   106    victory    57        iraq   115\n",
              "5   wednesday    72  technology   106       play    56        quot   105\n",
              "6    thursday    65        make   103     sunday    54   wednesday   105\n",
              "7         new    64         use   102       year    54    official   104\n",
              "8       share    63        year   100        run    44     country   103\n",
              "9      report    59     reuters   100   new_york    44      leader   102\n",
              "10      price    59     service   100       make    44    thursday    99\n",
              "11  yesterday    58    internet    88       lead    43      sunday    97\n",
              "12       quot    56      launch    83       quot    43  government    94\n",
              "13     monday    56     tuesday    82       time    41         new    92\n",
              "14       sale    54      market    77  yesterday    41   yesterday    90"
            ]
          },
          "metadata": {
            "tags": []
          },
          "execution_count": 25
        }
      ]
    },
    {
      "cell_type": "code",
      "metadata": {
        "id": "aVsW4CNqq4Ka",
        "colab": {
          "base_uri": "https://localhost:8080/",
          "height": 518
        },
        "outputId": "de7204d2-1815-4fd0-d4f0-39eab13cbf05"
      },
      "source": [
        "#Top 15 bigrams by category\n",
        "\n",
        "bus_bigrams = bigram_freq(text_bus, top_n = top_n)\n",
        "sci_t_bigrams = bigram_freq(text_sci_t, top_n = top_n)\n",
        "sports_bigrams = bigram_freq(text_sports, top_n = top_n)\n",
        "world_bigrams = bigram_freq(text_world, top_n = top_n)\n",
        "\n",
        "df_bigram_wf = pd.concat([bus_bigrams, sci_t_bigrams, sports_bigrams, world_bigrams], axis=1)\n",
        "df_bigram_wf.columns = cols\n",
        "df_bigram_wf"
      ],
      "execution_count": 26,
      "outputs": [
        {
          "output_type": "execute_result",
          "data": {
            "text/html": [
              "<div>\n",
              "<style scoped>\n",
              "    .dataframe tbody tr th:only-of-type {\n",
              "        vertical-align: middle;\n",
              "    }\n",
              "\n",
              "    .dataframe tbody tr th {\n",
              "        vertical-align: top;\n",
              "    }\n",
              "\n",
              "    .dataframe thead th {\n",
              "        text-align: right;\n",
              "    }\n",
              "</style>\n",
              "<table border=\"1\" class=\"dataframe\">\n",
              "  <thead>\n",
              "    <tr style=\"text-align: right;\">\n",
              "      <th></th>\n",
              "      <th>business</th>\n",
              "      <th>count</th>\n",
              "      <th>sci tech</th>\n",
              "      <th>count</th>\n",
              "      <th>sports</th>\n",
              "      <th>count</th>\n",
              "      <th>world</th>\n",
              "      <th>count</th>\n",
              "    </tr>\n",
              "  </thead>\n",
              "  <tbody>\n",
              "    <tr>\n",
              "      <th>0</th>\n",
              "      <td>new_york</td>\n",
              "      <td>111</td>\n",
              "      <td>microsoft_corp</td>\n",
              "      <td>47</td>\n",
              "      <td>new_york</td>\n",
              "      <td>44</td>\n",
              "      <td>prime_minister</td>\n",
              "      <td>88</td>\n",
              "    </tr>\n",
              "    <tr>\n",
              "      <th>1</th>\n",
              "      <td>oil_price</td>\n",
              "      <td>39</td>\n",
              "      <td>mobile_phone</td>\n",
              "      <td>41</td>\n",
              "      <td>sport_network</td>\n",
              "      <td>29</td>\n",
              "      <td>president_bush</td>\n",
              "      <td>58</td>\n",
              "    </tr>\n",
              "    <tr>\n",
              "      <th>2</th>\n",
              "      <td>wall_street</td>\n",
              "      <td>32</td>\n",
              "      <td>san_francisco</td>\n",
              "      <td>29</td>\n",
              "      <td>world_cup</td>\n",
              "      <td>19</td>\n",
              "      <td>united_nation</td>\n",
              "      <td>55</td>\n",
              "    </tr>\n",
              "    <tr>\n",
              "      <th>3</th>\n",
              "      <td>chief_executive</td>\n",
              "      <td>30</td>\n",
              "      <td>new_york</td>\n",
              "      <td>28</td>\n",
              "      <td>champion_league</td>\n",
              "      <td>18</td>\n",
              "      <td>united_state</td>\n",
              "      <td>48</td>\n",
              "    </tr>\n",
              "    <tr>\n",
              "      <th>4</th>\n",
              "      <td>quote_profile</td>\n",
              "      <td>27</td>\n",
              "      <td>video_game</td>\n",
              "      <td>28</td>\n",
              "      <td>red_sox</td>\n",
              "      <td>17</td>\n",
              "      <td>yasser_arafat</td>\n",
              "      <td>37</td>\n",
              "    </tr>\n",
              "    <tr>\n",
              "      <th>5</th>\n",
              "      <td>united_state</td>\n",
              "      <td>22</td>\n",
              "      <td>search_engine</td>\n",
              "      <td>27</td>\n",
              "      <td>st_louis</td>\n",
              "      <td>16</td>\n",
              "      <td>presidential_election</td>\n",
              "      <td>36</td>\n",
              "    </tr>\n",
              "    <tr>\n",
              "      <th>6</th>\n",
              "      <td>london_reuters</td>\n",
              "      <td>18</td>\n",
              "      <td>apple_computer</td>\n",
              "      <td>23</td>\n",
              "      <td>boston_red</td>\n",
              "      <td>15</td>\n",
              "      <td>kill_people</td>\n",
              "      <td>35</td>\n",
              "    </tr>\n",
              "    <tr>\n",
              "      <th>7</th>\n",
              "      <td>san_francisco</td>\n",
              "      <td>17</td>\n",
              "      <td>year_ago</td>\n",
              "      <td>19</td>\n",
              "      <td>united_state</td>\n",
              "      <td>13</td>\n",
              "      <td>new_york</td>\n",
              "      <td>34</td>\n",
              "    </tr>\n",
              "    <tr>\n",
              "      <th>8</th>\n",
              "      <td>crude_oil</td>\n",
              "      <td>16</td>\n",
              "      <td>sun_microsystems</td>\n",
              "      <td>19</td>\n",
              "      <td>houston_astros</td>\n",
              "      <td>12</td>\n",
              "      <td>north_korea</td>\n",
              "      <td>33</td>\n",
              "    </tr>\n",
              "    <tr>\n",
              "      <th>9</th>\n",
              "      <td>chicago_reuters</td>\n",
              "      <td>15</td>\n",
              "      <td>united_state</td>\n",
              "      <td>19</td>\n",
              "      <td>los_angeles</td>\n",
              "      <td>12</td>\n",
              "      <td>canadian_press</td>\n",
              "      <td>28</td>\n",
              "    </tr>\n",
              "    <tr>\n",
              "      <th>10</th>\n",
              "      <td>federal_reserve</td>\n",
              "      <td>14</td>\n",
              "      <td>intel_corp</td>\n",
              "      <td>18</td>\n",
              "      <td>ryder_cup</td>\n",
              "      <td>12</td>\n",
              "      <td>european_union</td>\n",
              "      <td>25</td>\n",
              "    </tr>\n",
              "    <tr>\n",
              "      <th>11</th>\n",
              "      <td>washington_reuters</td>\n",
              "      <td>13</td>\n",
              "      <td>web_site</td>\n",
              "      <td>18</td>\n",
              "      <td>score_point</td>\n",
              "      <td>12</td>\n",
              "      <td>foreign_minister</td>\n",
              "      <td>23</td>\n",
              "    </tr>\n",
              "    <tr>\n",
              "      <th>12</th>\n",
              "      <td>mutual_fund</td>\n",
              "      <td>12</td>\n",
              "      <td>open_source</td>\n",
              "      <td>17</td>\n",
              "      <td>monday_night</td>\n",
              "      <td>10</td>\n",
              "      <td>gaza_strip</td>\n",
              "      <td>23</td>\n",
              "    </tr>\n",
              "    <tr>\n",
              "      <th>13</th>\n",
              "      <td>world_large</td>\n",
              "      <td>12</td>\n",
              "      <td>chief_executive</td>\n",
              "      <td>17</td>\n",
              "      <td>pedro_martinez</td>\n",
              "      <td>10</td>\n",
              "      <td>tony_blair</td>\n",
              "      <td>22</td>\n",
              "    </tr>\n",
              "    <tr>\n",
              "      <th>14</th>\n",
              "      <td>stock_market</td>\n",
              "      <td>11</td>\n",
              "      <td>window_xp</td>\n",
              "      <td>16</td>\n",
              "      <td>tampa_bay</td>\n",
              "      <td>9</td>\n",
              "      <td>people_kill</td>\n",
              "      <td>21</td>\n",
              "    </tr>\n",
              "  </tbody>\n",
              "</table>\n",
              "</div>"
            ],
            "text/plain": [
              "              business count  ...                  world count\n",
              "0             new_york   111  ...         prime_minister    88\n",
              "1            oil_price    39  ...         president_bush    58\n",
              "2          wall_street    32  ...          united_nation    55\n",
              "3      chief_executive    30  ...           united_state    48\n",
              "4        quote_profile    27  ...          yasser_arafat    37\n",
              "5         united_state    22  ...  presidential_election    36\n",
              "6       london_reuters    18  ...            kill_people    35\n",
              "7        san_francisco    17  ...               new_york    34\n",
              "8            crude_oil    16  ...            north_korea    33\n",
              "9      chicago_reuters    15  ...         canadian_press    28\n",
              "10     federal_reserve    14  ...         european_union    25\n",
              "11  washington_reuters    13  ...       foreign_minister    23\n",
              "12         mutual_fund    12  ...             gaza_strip    23\n",
              "13         world_large    12  ...             tony_blair    22\n",
              "14        stock_market    11  ...            people_kill    21\n",
              "\n",
              "[15 rows x 8 columns]"
            ]
          },
          "metadata": {
            "tags": []
          },
          "execution_count": 26
        }
      ]
    },
    {
      "cell_type": "code",
      "metadata": {
        "id": "677PcrTVrzTq",
        "colab": {
          "base_uri": "https://localhost:8080/",
          "height": 681
        },
        "outputId": "62d7fa35-ece7-4659-ed54-789db44c011e"
      },
      "source": [
        "#Plot the distribution of word count by article\n",
        "\n",
        "fig, ax = plt.subplots(2, 2, figsize = (12,10))\n",
        "fig.suptitle('Distribution of Word Count by Category', fontsize=15)\n",
        "\n",
        "bins = 30\n",
        "\n",
        "ax[0, 0].hist(df_business['word_count'], bins = bins, color = '#41924F')\n",
        "ax[0, 0].set_title('Business Category', fontsize = 13)\n",
        "ax[0, 0].set_xlim(0, 150)\n",
        "\n",
        "ax[1, 0].hist(df_scitech['word_count'], bins = bins, color = '#FFC300')\n",
        "ax[1, 0].set_title('SciTech Category', fontsize = 13)\n",
        "ax[1, 0].set_xlim(0, 150)\n",
        "\n",
        "ax[0, 1].hist(df_sports['word_count'], bins = bins, color = '#a98ff3')\n",
        "ax[0, 1].set_title('Sports Category', fontsize = 13)\n",
        "ax[0, 1].set_xlim(0, 150)\n",
        "\n",
        "ax[1, 1].hist(df_world['word_count'], bins = bins, color = '#59C7EA')\n",
        "ax[1, 1].set_title('World Category', fontsize = 13)\n",
        "ax[1, 1].set_xlim(0, 150)\n",
        "\n",
        "plt.show"
      ],
      "execution_count": 27,
      "outputs": [
        {
          "output_type": "execute_result",
          "data": {
            "text/plain": [
              "<function matplotlib.pyplot.show>"
            ]
          },
          "metadata": {
            "tags": []
          },
          "execution_count": 27
        },
        {
          "output_type": "display_data",
          "data": {
            "image/png": "[encoded data removed]",
            "text/plain": [
              "<Figure size 864x720 with 4 Axes>"
            ]
          },
          "metadata": {
            "tags": []
          }
        }
      ]
    },
    {
      "cell_type": "markdown",
      "metadata": {
        "id": "UvR-vMioIDSJ"
      },
      "source": [
        "The ‘term frequency’ is just the number of times a word appears in a document, divided by the total number of words in that document. The ‘inverse document frequency’ is the logarithm of the number of total documents divided by the number of documents the word appears in. Pretty straight forward."
      ]
    },
    {
      "cell_type": "code",
      "metadata": {
        "id": "yHwOAdX9r0pX",
        "colab": {
          "base_uri": "https://localhost:8080/"
        },
        "outputId": "e96369ca-b646-4986-a104-1bbecaf4f582"
      },
      "source": [
        "#Creating the features (tf-idf weights) for the processed text\n",
        "\n",
        "texts = df['clean_text'].astype('str')\n",
        "\n",
        "tfidf_vectorizer = TfidfVectorizer(ngram_range=(1, 2), \n",
        "                                   min_df = 2, \n",
        "                                   max_df = .95)\n",
        "\n",
        "X = tfidf_vectorizer.fit_transform(texts) #features\n",
        "y = df['label_num'].values #target\n",
        "\n",
        "print (X.shape)\n",
        "print(y.shape)"
      ],
      "execution_count": 28,
      "outputs": [
        {
          "output_type": "stream",
          "text": [
            "(5590, 15137)\n",
            "(5590,)\n"
          ],
          "name": "stdout"
        }
      ]
    },
    {
      "cell_type": "markdown",
      "metadata": {
        "id": "_JiwnnZpH3fP"
      },
      "source": [
        "Sklearn’s tf-idf vectorizer has a few other helpful features we will use, especially ‘ngram_range’ and ‘max/min_df’. We’ll use an ngram_range of 1, 2 which takes unigrams and bigrams into account. The max_df tells the algorithm to ignore words that appear in more than the threshold set. We’ll set it to .95 which will ignore words that appear in 95% or more of all documents."
      ]
    },
    {
      "cell_type": "markdown",
      "metadata": {
        "id": "NlLpSRsQI3s3"
      },
      "source": [
        "The min_df ignores words that appear in less that the threshold. We’ll set it to 2 which will ignore words that only appear in 2 or less documents. This will help get rid of frequent terms (max_df) and infrequent terms (min_df)."
      ]
    },
    {
      "cell_type": "code",
      "metadata": {
        "id": "4Gbvh9fssJa7",
        "colab": {
          "base_uri": "https://localhost:8080/"
        },
        "outputId": "1310f489-056d-4924-a104-5d4d68960c74"
      },
      "source": [
        "#Dimenionality reduction. Only using the 100 best features er category\n",
        "\n",
        "lsa = TruncatedSVD(n_components=100, \n",
        "                   n_iter=10, \n",
        "                   random_state=3)\n",
        "\n",
        "X = lsa.fit_transform(X)\n",
        "X.shape"
      ],
      "execution_count": 29,
      "outputs": [
        {
          "output_type": "execute_result",
          "data": {
            "text/plain": [
              "(5590, 100)"
            ]
          },
          "metadata": {
            "tags": []
          },
          "execution_count": 29
        }
      ]
    },
    {
      "cell_type": "markdown",
      "metadata": {
        "id": "qoim61bYKsJ3"
      },
      "source": [
        "LSA is known to combat the effects of synonymy and polysemy (both of which roughly mean there are multiple meanings per word), which cause term-document matrices to be overly sparse and exhibit poor similarity under measures such as cosine similarity”"
      ]
    },
    {
      "cell_type": "markdown",
      "metadata": {
        "id": "umSdE88oK90V"
      },
      "source": [
        "**Accuracy** - simply the fraction of samples predicted correctly\n",
        "**Precision** - the ratio of true positives to false positives or the ability of the classifier not to label a positive sample as negative\n",
        "**Recall** - the ratio of true positives to false negatives or the ability of the classifier to find all the positive samples\n",
        "**F1 Score** - The harmonic average of precision and recall\n",
        "Precision-Recall Curve (graph): It shows the trade off between precision and recall. A high area under the curve (AUC) represents both high recall and high precision. High scores for both show that the classifier is returning accurate results (high precision), as well as returning a majority of all positive results (high recall)"
      ]
    },
    {
      "cell_type": "markdown",
      "metadata": {
        "id": "dd-x-2mgNEX7"
      },
      "source": [
        " A **macro-average** will compute the metric independently for each class and then take the average (hence treating all classes equally)"
      ]
    },
    {
      "cell_type": "markdown",
      "metadata": {
        "id": "t6-zDOFvNH_8"
      },
      "source": [
        "whereas a **micro-average** will aggregate the contributions of all classes to compute the average metric.\n",
        "\n"
      ]
    },
    {
      "cell_type": "markdown",
      "metadata": {
        "id": "hl4CHdhTQAFe"
      },
      "source": [
        "Micro-average Method\n",
        "In Micro-average method, you sum up the individual true positives, false positives, and false negatives of the system for different sets and the apply them to get the statistics. For example, for a set of data, the system's\n",
        "\n",
        "True positive (TP1)  = 12\n",
        "False positive (FP1) = 9\n",
        "False negative (FN1) = 3\n",
        "Then precision (P1) and recall (R1) will be 57.14%=TP1TP1+FP1 and 80%=TP1TP1+FN1\n",
        "\n",
        "and for a different set of data, the system's\n",
        "\n",
        "True positive (TP2)  = 50\n",
        "False positive (FP2) = 23\n",
        "False negative (FN2) = 9\n",
        "Then precision (P2) and recall (R2) will be 68.49 and 84.75\n",
        "\n",
        "Now, the average precision and recall of the system using the Micro-average method is\n",
        "\n",
        "Micro-average of precision=(TP1+TP2)/\n",
        "                  (TP1+TP2+FP1+FP2)=(12+50)/(12+50+9+23)   = 65.96\n",
        "\n",
        "Micro-average of recall=(TP1+TP2)/(TP1+TP2+FN1+FN2)=(12+50)/(12+50+3+9)= 83.78\n",
        "\n",
        "The Micro-average F-Score will be simply the harmonic mean of these two figures.\n",
        "\n",
        "2. Macro-average Method\n",
        "The method is straight forward. Just take the average of the precision and recall of the system on different sets. For example, the macro-average precision and recall of the system for the given example is\n",
        "\n",
        "Macro-average precision=P1+P22=57.14+68.492= 62.82 \n",
        "Macro-average recall=R1+R22=80+84.752= 82.25\n",
        "\n",
        "The Macro-average F-Score will be simply the harmonic mean of these two figures.\n",
        "\n",
        "Suitability Macro-average method can be used when you want to know how the system performs overall across the sets of data. You should not come up with any specific decision with this average.\n",
        "\n",
        "On the other hand, micro-average can be a useful measure when your dataset varies in size."
      ]
    },
    {
      "cell_type": "code",
      "metadata": {
        "id": "qUx2FqL3sW9Z",
        "colab": {
          "base_uri": "https://localhost:8080/",
          "height": 268
        },
        "outputId": "b6ff4a0f-4376-4cf1-a63c-96fff86d0439"
      },
      "source": [
        "#Preliminary model evaluation using default parameters\n",
        "\n",
        "#Creating a dict of the models\n",
        "model_dict = {'Dummy' : DummyClassifier(random_state=3),\n",
        "              'Stochastic Gradient Descent' : SGDClassifier(random_state=3, loss='log'),\n",
        "              'Random Forest': RandomForestClassifier(random_state=3),\n",
        "              'Decsision Tree': DecisionTreeClassifier(random_state=3),\n",
        "              'AdaBoost': AdaBoostClassifier(random_state=3),\n",
        "              'Gaussian Naive Bayes': GaussianNB(),\n",
        "              'K Nearest Neighbor': KNeighborsClassifier()}\n",
        "\n",
        "#Train test split with stratified sampling for evaluation\n",
        "X_train, X_test, y_train, y_test = train_test_split(X, \n",
        "                                                    y, \n",
        "                                                    test_size = .3, \n",
        "                                                    shuffle = True, \n",
        "                                                    stratify = y, \n",
        "                                                    random_state = 3)\n",
        "\n",
        "#Function to get the scores for each model in a df\n",
        "def model_score_df(model_dict):   \n",
        "    model_name, ac_score_list, p_score_list, r_score_list, f1_score_list = [], [], [], [], []\n",
        "    for k,v in model_dict.items():   \n",
        "        model_name.append(k)\n",
        "        v.fit(X_train, y_train)\n",
        "        y_pred = v.predict(X_test)\n",
        "        ac_score_list.append(accuracy_score(y_test, y_pred))\n",
        "        p_score_list.append(precision_score(y_test, y_pred, average='macro'))\n",
        "        r_score_list.append(recall_score(y_test, y_pred, average='macro'))\n",
        "        f1_score_list.append(f1_score(y_test, y_pred, average='macro'))\n",
        "        model_comparison_df = pd.DataFrame([model_name, ac_score_list, p_score_list, r_score_list, f1_score_list]).T\n",
        "        model_comparison_df.columns = ['model_name', 'accuracy_score', 'precision_score', 'recall_score', 'f1_score']\n",
        "        model_comparison_df = model_comparison_df.sort_values(by='f1_score', ascending=False)\n",
        "    return model_comparison_df\n",
        "\n",
        "model_score_df(model_dict)"
      ],
      "execution_count": 30,
      "outputs": [
        {
          "output_type": "execute_result",
          "data": {
            "text/html": [
              "<div>\n",
              "<style scoped>\n",
              "    .dataframe tbody tr th:only-of-type {\n",
              "        vertical-align: middle;\n",
              "    }\n",
              "\n",
              "    .dataframe tbody tr th {\n",
              "        vertical-align: top;\n",
              "    }\n",
              "\n",
              "    .dataframe thead th {\n",
              "        text-align: right;\n",
              "    }\n",
              "</style>\n",
              "<table border=\"1\" class=\"dataframe\">\n",
              "  <thead>\n",
              "    <tr style=\"text-align: right;\">\n",
              "      <th></th>\n",
              "      <th>model_name</th>\n",
              "      <th>accuracy_score</th>\n",
              "      <th>precision_score</th>\n",
              "      <th>recall_score</th>\n",
              "      <th>f1_score</th>\n",
              "    </tr>\n",
              "  </thead>\n",
              "  <tbody>\n",
              "    <tr>\n",
              "      <th>2</th>\n",
              "      <td>Random Forest</td>\n",
              "      <td>0.82</td>\n",
              "      <td>0.82</td>\n",
              "      <td>0.80</td>\n",
              "      <td>0.81</td>\n",
              "    </tr>\n",
              "    <tr>\n",
              "      <th>1</th>\n",
              "      <td>Stochastic Gradient Descent</td>\n",
              "      <td>0.80</td>\n",
              "      <td>0.81</td>\n",
              "      <td>0.77</td>\n",
              "      <td>0.79</td>\n",
              "    </tr>\n",
              "    <tr>\n",
              "      <th>4</th>\n",
              "      <td>AdaBoost</td>\n",
              "      <td>0.75</td>\n",
              "      <td>0.74</td>\n",
              "      <td>0.74</td>\n",
              "      <td>0.74</td>\n",
              "    </tr>\n",
              "    <tr>\n",
              "      <th>6</th>\n",
              "      <td>K Nearest Neighbor</td>\n",
              "      <td>0.71</td>\n",
              "      <td>0.71</td>\n",
              "      <td>0.69</td>\n",
              "      <td>0.70</td>\n",
              "    </tr>\n",
              "    <tr>\n",
              "      <th>5</th>\n",
              "      <td>Gaussian Naive Bayes</td>\n",
              "      <td>0.69</td>\n",
              "      <td>0.69</td>\n",
              "      <td>0.71</td>\n",
              "      <td>0.68</td>\n",
              "    </tr>\n",
              "    <tr>\n",
              "      <th>3</th>\n",
              "      <td>Decsision Tree</td>\n",
              "      <td>0.69</td>\n",
              "      <td>0.67</td>\n",
              "      <td>0.67</td>\n",
              "      <td>0.67</td>\n",
              "    </tr>\n",
              "    <tr>\n",
              "      <th>0</th>\n",
              "      <td>Dummy</td>\n",
              "      <td>0.29</td>\n",
              "      <td>0.26</td>\n",
              "      <td>0.26</td>\n",
              "      <td>0.26</td>\n",
              "    </tr>\n",
              "  </tbody>\n",
              "</table>\n",
              "</div>"
            ],
            "text/plain": [
              "                    model_name accuracy_score  ... recall_score f1_score\n",
              "2                Random Forest           0.82  ...         0.80     0.81\n",
              "1  Stochastic Gradient Descent           0.80  ...         0.77     0.79\n",
              "4                     AdaBoost           0.75  ...         0.74     0.74\n",
              "6           K Nearest Neighbor           0.71  ...         0.69     0.70\n",
              "5         Gaussian Naive Bayes           0.69  ...         0.71     0.68\n",
              "3               Decsision Tree           0.69  ...         0.67     0.67\n",
              "0                        Dummy           0.29  ...         0.26     0.26\n",
              "\n",
              "[7 rows x 5 columns]"
            ]
          },
          "metadata": {
            "tags": []
          },
          "execution_count": 30
        }
      ]
    },
    {
      "cell_type": "markdown",
      "metadata": {
        "id": "col1yGVTLe_o"
      },
      "source": [
        "For multiclass classification you also need to select the type of averaging for these metrics as they are calculated per class. The discussion of what’s best and what you should use depends on your situation and is beyond the scope of this article but in general I find macro averaging the most useful (which is what I’m using here). It computes F1 scores for each class and returns the average of those scores. "
      ]
    },
    {
      "cell_type": "code",
      "metadata": {
        "id": "dKeJlIpXt89E"
      },
      "source": [
        "#Hyperparameter tuning\n",
        "#Gridsearch with 5-fold cross validation\n",
        "#Warning this can take a long time!!!\n",
        "\n",
        "#SGD\n",
        "loss =  ['log']\n",
        "penalty = ['l2','l1']\n",
        "alpha = [1e-6, 1e-3, 1e-1, 1e0]\n",
        "max_iter = [5, 1000, 2000 ]\n",
        "tol = [None, 1e-3]\n",
        "eta0 = [0.1, 0.001]\n",
        "\n",
        "random_state = [3]\n",
        "\n",
        "clf = SGDClassifier()\n",
        "\n",
        "params = dict(loss=loss,\n",
        "              penalty=penalty,\n",
        "              alpha=alpha,\n",
        "              max_iter=max_iter,\n",
        "              tol=tol,\n",
        "              random_state=random_state)\n",
        "\n",
        "gridsearch = GridSearchCV(clf,\n",
        "                          params,\n",
        "                          cv = 5,\n",
        "                          verbose = 1, \n",
        "                          n_jobs = -1)\n",
        "\n",
        "sgd_best_model = gridsearch.fit(X, y)"
      ],
      "execution_count": null,
      "outputs": []
    },
    {
      "cell_type": "code",
      "metadata": {
        "id": "WRqIjZMiu4_-"
      },
      "source": [
        "best_model_sgd = gridsearch.best_params_\n",
        "print(best_model_sgd)"
      ],
      "execution_count": null,
      "outputs": []
    },
    {
      "cell_type": "code",
      "metadata": {
        "id": "VVASurteuYNY"
      },
      "source": [
        "#Hyperparameter tuning\n",
        "#Gridsearch with 5-fold cross validation\n",
        "#Warning this can take a long time!!!\n",
        "\n",
        "#RF\n",
        "bootstrap = [True, False]\n",
        "max_depth = [10, 50, 100, None]\n",
        "max_features = ['auto', 'sqrt']\n",
        "min_samples_leaf = [1, 2, 4]\n",
        "min_samples_split = [2, 5, 10]\n",
        "n_estimators = [800, 1400, 1000]\n",
        "random_state = [3]\n",
        "\n",
        "clf = RandomForestClassifier()\n",
        "\n",
        "params = dict(bootstrap = bootstrap,\n",
        "              max_depth = max_depth,\n",
        "              max_features = max_features,\n",
        "              min_samples_leaf = min_samples_leaf,\n",
        "              n_estimators = n_estimators,\n",
        "              random_state=random_state)\n",
        "\n",
        "gridsearch = GridSearchCV(clf,\n",
        "                          params, \n",
        "                          cv=5,\n",
        "                          verbose=1, \n",
        "                          n_jobs=-1)\n",
        "\n",
        "rf_best_model = gridsearch.fit(X, y)"
      ],
      "execution_count": null,
      "outputs": []
    },
    {
      "cell_type": "code",
      "metadata": {
        "id": "fW6GEos9u9NF"
      },
      "source": [
        "best_model_rf = gridsearch.best_params_\n",
        "print(best_model_rf)"
      ],
      "execution_count": null,
      "outputs": []
    },
    {
      "cell_type": "code",
      "metadata": {
        "id": "tPXCRwFsuooe"
      },
      "source": [
        "#Define the best models with the selected params from the grdsearch\n",
        "#Gridsearch was done on a virtual machine outisde of this notebook\n",
        "#Normally you can just say 'best_model = gridsearch.best_params_' \n",
        "#to use the best parameters from the gridsearch\n",
        "\n",
        "sgd_best_model = SGDClassifier(alpha=1e-06,\n",
        "                               loss='log',\n",
        "                               max_iter=1000,\n",
        "                               penalty='l2',\n",
        "                               learning_rate = 'constant',\n",
        "                               eta0 = .1,\n",
        "                               random_state = 3,\n",
        "                               tol=None)\n",
        "\n",
        "rf_best_model = RandomForestClassifier(bootstrap = False,\n",
        "                                       max_depth = 50,\n",
        "                                       max_features = 'auto',\n",
        "                                       min_samples_leaf = 1,\n",
        "                                       n_estimators = 1400,\n",
        "                                       random_state=3)"
      ],
      "execution_count": 31,
      "outputs": []
    },
    {
      "cell_type": "code",
      "metadata": {
        "id": "-bk2WPatvBcl"
      },
      "source": [
        "#Plot AUC - SGD\n",
        "\n",
        "#Binarize the labels\n",
        "y_b = label_binarize(y, classes = [0, 1, 2, 3])\n",
        "n_classes = y_b.shape[1]\n",
        "\n",
        "#Shuffle and split training and test sets with stratified sampling and binarized labels\n",
        "X_train_b, X_test_b, y_train_b, y_test_b = train_test_split(X,\n",
        "                                                            y_b,\n",
        "                                                            test_size = .3,\n",
        "                                                            shuffle = True,\n",
        "                                                            stratify = y,\n",
        "                                                            random_state = 3)\n",
        "\n",
        "#Learn to predict each class against the other\n",
        "sgd_classifier = OneVsRestClassifier(sgd_best_model)\n",
        "\n",
        "y_score = sgd_classifier.fit(X_train_b, y_train_b).predict_proba(X_test_b)"
      ],
      "execution_count": 32,
      "outputs": []
    },
    {
      "cell_type": "code",
      "metadata": {
        "id": "keW3iIIJ9DAJ",
        "colab": {
          "base_uri": "https://localhost:8080/",
          "height": 135
        },
        "outputId": "13d51ac9-4a72-48d8-ea88-bf36668d585e"
      },
      "source": [
        "#Compute ROC curve and ROC area for each class\n",
        "fpr = dict()\n",
        "tpr = dict()\n",
        "roc_auc = dict()\n",
        "\n",
        "for i in range(n_classes):\n",
        "    fpr[i], tpr[i], _ = roc_curve(y_test_b[:, i], y_score[:, i])\n",
        "    roc_auc[i] = auc(fpr[i], tpr[i])\n",
        "\n",
        "#Compute micro-average ROC curve and ROC area\n",
        "fpr['micro'], tpr['micro'], _ = roc_curve(y_test_b.ravel(), y_score.ravel())\n",
        "roc_auc['micro'] = auc(fpr['micro'], tpr['micro'])\n",
        "\n",
        "\n",
        "First aggregate all false positive rates\n",
        "all_fpr = np.unique(np.concatenate([fpr[i] for i in range(n_classes)]))\n",
        "\n",
        "#Then interpolate all ROC curves at this points\n",
        "mean_tpr = np.zeros_like(all_fpr)\n",
        "for i in range(n_classes):\n",
        "    mean_tpr += interp(all_fpr, fpr[i], tpr[i])\n",
        "\n",
        "#Finally average it and compute AUC\n",
        "mean_tpr /= n_classes\n",
        "\n",
        "fpr['macro'] = all_fpr\n",
        "tpr['macro'] = mean_tpr\n",
        "roc_auc['macro'] = auc(fpr['macro'], tpr['macro'])\n",
        "\n",
        "\n",
        "#Plot all ROC curves\n",
        "plt.figure(figsize=(13,10)) \n",
        "sns.set_style('darkgrid')\n",
        "lw=2\n",
        "\n",
        "plt.plot(fpr['micro'], \n",
        "         tpr['micro'], \n",
        "         label='micro-average ROC curve (area = {0:0.3f})'''.format(roc_auc['micro']),\n",
        "         color='deeppink',\n",
        "         linestyle=':', \n",
        "         linewidth=4)\n",
        "\n",
        "plt.plot(fpr['macro'], \n",
        "         tpr['macro'], \n",
        "         label='macro-average ROC curve (area = {0:0.3f})'''.format(roc_auc['macro']),\n",
        "         color='navy', \n",
        "         linestyle=':', \n",
        "         linewidth=4)\n",
        "\n",
        "colors = cycle(['#41924F', '#FFC300', '#a98ff3', '#59C7EA'])\n",
        "\n",
        "for i, color in zip(range(n_classes), colors):\n",
        "    plt.plot(fpr[i], tpr[i], \n",
        "             color=color, \n",
        "             lw=lw, \n",
        "             label='ROC curve of class {0} (area = {1:0.3f})'''.format(i, roc_auc[i]))\n",
        "    \n",
        "\n",
        "plt.plot([0, 1], [0, 1], 'k--', lw=lw)\n",
        "plt.xlim([0.0, 1.0])\n",
        "plt.ylim([0.0, 1.05])\n",
        "plt.xlabel('1-Specificity (False Positive Rate)', fontsize = 14)\n",
        "plt.ylabel('Sensitivity (True Positive Rate)', fontsize = 14)\n",
        "plt.title('Receiver Operating Characteristic - SGD (loss = log)', fontsize = 16)\n",
        "plt.legend(loc=\"lower right\", fontsize = 13)\n",
        "plt.show()"
      ],
      "execution_count": 33,
      "outputs": [
        {
          "output_type": "error",
          "ename": "SyntaxError",
          "evalue": "ignored",
          "traceback": [
            "\u001b[0;36m  File \u001b[0;32m\"<ipython-input-33-ade5fb6180f4>\"\u001b[0;36m, line \u001b[0;32m15\u001b[0m\n\u001b[0;31m    First aggregate all false positive rates\u001b[0m\n\u001b[0m                  ^\u001b[0m\n\u001b[0;31mSyntaxError\u001b[0m\u001b[0;31m:\u001b[0m invalid syntax\n"
          ]
        }
      ]
    },
    {
      "cell_type": "code",
      "metadata": {
        "id": "6xeR8dt39Vg1",
        "colab": {
          "base_uri": "https://localhost:8080/",
          "height": 531
        },
        "outputId": "b1bc5ddd-ca98-4f33-9ece-2b6306ecf361"
      },
      "source": [
        "#Confusion Matrix - SGD\n",
        "\n",
        "#Train test split with stratified sampling. Using non-binarized labels\n",
        "X_train, X_test, y_train, y_test = train_test_split(X, \n",
        "                                                    y, \n",
        "                                                    test_size = .3, \n",
        "                                                    shuffle = True, \n",
        "                                                    stratify = y, \n",
        "                                                    random_state = 3)\n",
        "#Fit the training data\n",
        "sgd_best_model.fit(X_train, y_train)\n",
        "\n",
        "#Predict the testing data\n",
        "y_pred = sgd_best_model.predict(X_test)\n",
        "\n",
        "#Get the confusion matrix and put it into a df\n",
        "cm = confusion_matrix(y_test, y_pred) \n",
        "\n",
        "cm_df = pd.DataFrame(cm,\n",
        "                     index = ['business','scitech','sports', 'world'], \n",
        "                     columns = ['business','scitech','sports', 'world'])\n",
        "\n",
        "#Plot the heatmap\n",
        "plt.figure(figsize=(12, 8))\n",
        "\n",
        "sns.heatmap(cm_df, \n",
        "            center=0, \n",
        "            cmap=sns.diverging_palette(220, 15, as_cmap=True), \n",
        "            annot=True, \n",
        "            fmt='g')\n",
        "\n",
        "plt.title('SGD (loss = log) \\nF1 Score (avg = macro) : {0:.2f}'.format(f1_score(y_test, y_pred, average='macro')), fontsize = 13)\n",
        "plt.ylabel('True label', fontsize = 13)\n",
        "plt.xlabel('Predicted label', fontsize = 13)\n",
        "plt.show()"
      ],
      "execution_count": 34,
      "outputs": [
        {
          "output_type": "display_data",
          "data": {
            "image/png": "[encoded data removed]",
            "text/plain": [
              "<Figure size 864x576 with 2 Axes>"
            ]
          },
          "metadata": {
            "tags": []
          }
        }
      ]
    },
    {
      "cell_type": "code",
      "metadata": {
        "id": "tC2tmYnZ9upr",
        "colab": {
          "base_uri": "https://localhost:8080/",
          "height": 627
        },
        "outputId": "9b4b141c-9edc-4ccf-b7e3-852afd6f4618"
      },
      "source": [
        "#Plot AUC - RF\n",
        "\n",
        "#Learn to predict each class against the other\n",
        "rf_classifier = OneVsRestClassifier(rf_best_model)\n",
        "\n",
        "y_score = rf_classifier.fit(X_train_b, y_train_b).predict_proba(X_test_b)\n",
        "\n",
        "# Compute ROC curve and ROC area for each class\n",
        "fpr = dict()\n",
        "tpr = dict()\n",
        "roc_auc = dict()\n",
        "\n",
        "for i in range(n_classes):\n",
        "    fpr[i], tpr[i], _ = roc_curve(y_test_b[:, i], y_score[:, i])\n",
        "    roc_auc[i] = auc(fpr[i], tpr[i])\n",
        "\n",
        "#Compute micro-average ROC curve and ROC area\n",
        "fpr['micro'], tpr['micro'], _ = roc_curve(y_test_b.ravel(), y_score.ravel())\n",
        "roc_auc['micro'] = auc(fpr['micro'], tpr['micro'])\n",
        "\n",
        "#First aggregate all false positive rates\n",
        "all_fpr = np.unique(np.concatenate([fpr[i] for i in range(n_classes)]))\n",
        "\n",
        "#Then interpolate all ROC curves at this points\n",
        "mean_tpr = np.zeros_like(all_fpr)\n",
        "for i in range(n_classes):\n",
        "    mean_tpr += interp(all_fpr, fpr[i], tpr[i])\n",
        "\n",
        "#Finally average it and compute AUC\n",
        "mean_tpr /= n_classes\n",
        "\n",
        "fpr['macro'] = all_fpr\n",
        "tpr['macro'] = mean_tpr\n",
        "roc_auc['macro'] = auc(fpr['macro'], tpr['macro'])\n",
        "\n",
        "#Plot all ROC curves\n",
        "plt.figure(figsize=(13,10)) \n",
        "sns.set_style('darkgrid')\n",
        "lw=2\n",
        "\n",
        "plt.plot(fpr['micro'], \n",
        "         tpr['micro'], \n",
        "         label='micro-average ROC curve (area = {0:0.3f})'''.format(roc_auc['micro']),\n",
        "         color='deeppink',\n",
        "         linestyle=':', \n",
        "         linewidth=4)\n",
        "\n",
        "plt.plot(fpr['macro'], \n",
        "         tpr['macro'], \n",
        "         label='macro-average ROC curve (area = {0:0.3f})'''.format(roc_auc['macro']),\n",
        "         color='navy', \n",
        "         linestyle=':', \n",
        "         linewidth=4)\n",
        "\n",
        "colors = cycle(['#41924F', '#FFC300', '#a98ff3', '#59C7EA'])\n",
        "\n",
        "for i, color in zip(range(n_classes), colors):\n",
        "    plt.plot(fpr[i], tpr[i], \n",
        "             color=color, \n",
        "             lw=lw, \n",
        "             label='ROC curve of class {0} (area = {1:0.3f})'''.format(i, roc_auc[i]))\n",
        "\n",
        "plt.plot([0, 1], [0, 1], 'k--', lw=lw)\n",
        "plt.xlim([0.0, 1.0])\n",
        "plt.ylim([0.0, 1.05])\n",
        "plt.xlabel('1-Specificity (False Positive Rate)', fontsize = 14)\n",
        "plt.ylabel('Sensitivity (True Positive Rate)', fontsize = 14)\n",
        "plt.title('Receiver Operating Characteristic - RF', fontsize = 16)\n",
        "plt.legend(loc=\"lower right\", fontsize = 13)\n",
        "plt.show()"
      ],
      "execution_count": 35,
      "outputs": [
        {
          "output_type": "display_data",
          "data": {
            "image/png": "[encoded data removed]",
            "text/plain": [
              "<Figure size 936x720 with 1 Axes>"
            ]
          },
          "metadata": {
            "tags": []
          }
        }
      ]
    },
    {
      "cell_type": "code",
      "metadata": {
        "id": "VDomhIb293r1",
        "colab": {
          "base_uri": "https://localhost:8080/",
          "height": 531
        },
        "outputId": "06db1b93-887a-41c0-ee6d-6c606ecf7e85"
      },
      "source": [
        "#Confusion Matrix - RF\n",
        "\n",
        "#Fit the training data\n",
        "rf_best_model.fit(X_train, y_train)\n",
        "\n",
        "#Predict the testing data\n",
        "y_pred = rf_best_model.predict(X_test)\n",
        "\n",
        "#Get the confusion matrix and put it into a df\n",
        "cm = confusion_matrix(y_test, y_pred) \n",
        "\n",
        "cm_df = pd.DataFrame(cm,\n",
        "                     index = ['business','scitech','sports', 'world'], \n",
        "                     columns = ['business','scitech','sports', 'world'])\n",
        "\n",
        "#Plot the heatmap\n",
        "plt.figure(figsize=(12, 8))\n",
        "\n",
        "sns.heatmap(cm_df, \n",
        "            center=0, \n",
        "            cmap=sns.diverging_palette(220, 15, as_cmap=True), \n",
        "            annot=True, \n",
        "            fmt='g')\n",
        "\n",
        "plt.title('Random Forest \\nF1 Score (avg = macro) : {0:.2f}'.format(f1_score(y_test, y_pred, average='macro')), fontsize = 13)\n",
        "plt.ylabel('True label', fontsize = 13)\n",
        "plt.xlabel('Predicted label', fontsize = 13)\n",
        "plt.show()"
      ],
      "execution_count": 36,
      "outputs": [
        {
          "output_type": "display_data",
          "data": {
            "image/png": "[encoded data removed]",
            "text/plain": [
              "<Figure size 864x576 with 2 Axes>"
            ]
          },
          "metadata": {
            "tags": []
          }
        }
      ]
    },
    {
      "cell_type": "code",
      "metadata": {
        "id": "oj3mJY0896sS",
        "colab": {
          "base_uri": "https://localhost:8080/",
          "height": 675
        },
        "outputId": "75e3691e-925e-4e6f-c8f1-97d03f77f142"
      },
      "source": [
        "#Putting it all together to make predictions on the unseen text\n",
        "\n",
        "#Get the text of the 5 articles we held out from each of the categories in the beginning\n",
        "unseen = df_holdout['clean_text'].astype('str') \n",
        "\n",
        "#Use the saved models to transform the unseen text with tf-idf and lsa\n",
        "X_unseen_tfidf = tfidf_vectorizer.transform(unseen) \n",
        "X_unseen = lsa.transform(X_unseen_tfidf)\n",
        "\n",
        "#Fit the models with the best params on the full data\n",
        "sgd_best_model.fit(X, y)\n",
        "rf_best_model.fit(X, y)\n",
        "\n",
        "#Make the prediction on the unseen articles with the fitted best models and put it into a df alongside the correct labels\n",
        "df_holdout['pred_sgd'] = sgd_best_model.predict(X_unseen)\n",
        "df_holdout['pred_rf'] = rf_best_model.predict(X_unseen)\n",
        "\n",
        "label_num_dict = {'Business': 0,\n",
        "                  'SciTech': 1,\n",
        "                  'Sports': 2,\n",
        "                  'World': 3}\n",
        "\n",
        "df_holdout['correct'] = df_holdout['label'].map(label_num_dict)\n",
        "df_holdout = df_holdout.drop('clean_text', 1)\n",
        "df_holdout = df_holdout[['content', 'label', 'pred_sgd', 'pred_rf', 'correct']]\n",
        "\n",
        "df_holdout"
      ],
      "execution_count": 37,
      "outputs": [
        {
          "output_type": "execute_result",
          "data": {
            "text/html": [
              "<div>\n",
              "<style scoped>\n",
              "    .dataframe tbody tr th:only-of-type {\n",
              "        vertical-align: middle;\n",
              "    }\n",
              "\n",
              "    .dataframe tbody tr th {\n",
              "        vertical-align: top;\n",
              "    }\n",
              "\n",
              "    .dataframe thead th {\n",
              "        text-align: right;\n",
              "    }\n",
              "</style>\n",
              "<table border=\"1\" class=\"dataframe\">\n",
              "  <thead>\n",
              "    <tr style=\"text-align: right;\">\n",
              "      <th></th>\n",
              "      <th>content</th>\n",
              "      <th>label</th>\n",
              "      <th>pred_sgd</th>\n",
              "      <th>pred_rf</th>\n",
              "      <th>correct</th>\n",
              "    </tr>\n",
              "  </thead>\n",
              "  <tbody>\n",
              "    <tr>\n",
              "      <th>5051</th>\n",
              "      <td>If you #39;ve ever been in an airplane that ha...</td>\n",
              "      <td>Business</td>\n",
              "      <td>1</td>\n",
              "      <td>1</td>\n",
              "      <td>0</td>\n",
              "    </tr>\n",
              "    <tr>\n",
              "      <th>6272</th>\n",
              "      <td>NEW YORK (Reuters) - U.S. stocks rose on Monda...</td>\n",
              "      <td>Business</td>\n",
              "      <td>0</td>\n",
              "      <td>0</td>\n",
              "      <td>0</td>\n",
              "    </tr>\n",
              "    <tr>\n",
              "      <th>3341</th>\n",
              "      <td>US stocks looked to open flat on Thursday unde...</td>\n",
              "      <td>Business</td>\n",
              "      <td>0</td>\n",
              "      <td>0</td>\n",
              "      <td>0</td>\n",
              "    </tr>\n",
              "    <tr>\n",
              "      <th>6067</th>\n",
              "      <td>AP - The United States and Australia have prev...</td>\n",
              "      <td>Business</td>\n",
              "      <td>3</td>\n",
              "      <td>3</td>\n",
              "      <td>0</td>\n",
              "    </tr>\n",
              "    <tr>\n",
              "      <th>4673</th>\n",
              "      <td>NEW YORK (Reuters) - U.S. stocks jumped on Wed...</td>\n",
              "      <td>Business</td>\n",
              "      <td>0</td>\n",
              "      <td>0</td>\n",
              "      <td>0</td>\n",
              "    </tr>\n",
              "    <tr>\n",
              "      <th>4848</th>\n",
              "      <td>VIENNA (Reuters) - Top seed Amelie Mauresmo re...</td>\n",
              "      <td>Sports</td>\n",
              "      <td>2</td>\n",
              "      <td>2</td>\n",
              "      <td>2</td>\n",
              "    </tr>\n",
              "    <tr>\n",
              "      <th>6232</th>\n",
              "      <td>Feyenoord boss Ruud Gullit has launched a stin...</td>\n",
              "      <td>Sports</td>\n",
              "      <td>2</td>\n",
              "      <td>1</td>\n",
              "      <td>2</td>\n",
              "    </tr>\n",
              "    <tr>\n",
              "      <th>3072</th>\n",
              "      <td>Jim Mora thought his team deserved a little so...</td>\n",
              "      <td>Sports</td>\n",
              "      <td>2</td>\n",
              "      <td>2</td>\n",
              "      <td>2</td>\n",
              "    </tr>\n",
              "    <tr>\n",
              "      <th>6007</th>\n",
              "      <td>Motorsport.com. Reports this week suggest that...</td>\n",
              "      <td>Sports</td>\n",
              "      <td>1</td>\n",
              "      <td>1</td>\n",
              "      <td>2</td>\n",
              "    </tr>\n",
              "    <tr>\n",
              "      <th>4431</th>\n",
              "      <td>Race fans wave American flags in the stands du...</td>\n",
              "      <td>Sports</td>\n",
              "      <td>2</td>\n",
              "      <td>2</td>\n",
              "      <td>2</td>\n",
              "    </tr>\n",
              "    <tr>\n",
              "      <th>1</th>\n",
              "      <td>SPACE.com - TORONTO, Canada -- A second\\team o...</td>\n",
              "      <td>SciTech</td>\n",
              "      <td>1</td>\n",
              "      <td>1</td>\n",
              "      <td>1</td>\n",
              "    </tr>\n",
              "    <tr>\n",
              "      <th>2</th>\n",
              "      <td>AP - A company founded by a chemistry research...</td>\n",
              "      <td>SciTech</td>\n",
              "      <td>1</td>\n",
              "      <td>1</td>\n",
              "      <td>1</td>\n",
              "    </tr>\n",
              "    <tr>\n",
              "      <th>3</th>\n",
              "      <td>AP - It's barely dawn when Mike Fitzpatrick st...</td>\n",
              "      <td>SciTech</td>\n",
              "      <td>1</td>\n",
              "      <td>2</td>\n",
              "      <td>1</td>\n",
              "    </tr>\n",
              "    <tr>\n",
              "      <th>4</th>\n",
              "      <td>AP - Southern California's smog-fighting agenc...</td>\n",
              "      <td>SciTech</td>\n",
              "      <td>3</td>\n",
              "      <td>3</td>\n",
              "      <td>1</td>\n",
              "    </tr>\n",
              "    <tr>\n",
              "      <th>5</th>\n",
              "      <td>The British Department for Education and Skill...</td>\n",
              "      <td>SciTech</td>\n",
              "      <td>1</td>\n",
              "      <td>1</td>\n",
              "      <td>1</td>\n",
              "    </tr>\n",
              "    <tr>\n",
              "      <th>32</th>\n",
              "      <td>Canadian Press - VANCOUVER (CP) - The sister o...</td>\n",
              "      <td>World</td>\n",
              "      <td>3</td>\n",
              "      <td>3</td>\n",
              "      <td>3</td>\n",
              "    </tr>\n",
              "    <tr>\n",
              "      <th>33</th>\n",
              "      <td>AP - The man who claims Gov. James E. McGreeve...</td>\n",
              "      <td>World</td>\n",
              "      <td>1</td>\n",
              "      <td>1</td>\n",
              "      <td>3</td>\n",
              "    </tr>\n",
              "    <tr>\n",
              "      <th>34</th>\n",
              "      <td>NAJAF, Iraq - Explosions and gunfire rattled t...</td>\n",
              "      <td>World</td>\n",
              "      <td>3</td>\n",
              "      <td>3</td>\n",
              "      <td>3</td>\n",
              "    </tr>\n",
              "    <tr>\n",
              "      <th>35</th>\n",
              "      <td>LOURDES, France - A frail Pope John Paul II, b...</td>\n",
              "      <td>World</td>\n",
              "      <td>3</td>\n",
              "      <td>2</td>\n",
              "      <td>3</td>\n",
              "    </tr>\n",
              "    <tr>\n",
              "      <th>36</th>\n",
              "      <td>Supporters and rivals warn of possible fraud; ...</td>\n",
              "      <td>World</td>\n",
              "      <td>0</td>\n",
              "      <td>0</td>\n",
              "      <td>3</td>\n",
              "    </tr>\n",
              "  </tbody>\n",
              "</table>\n",
              "</div>"
            ],
            "text/plain": [
              "                                                content  ... correct\n",
              "5051  If you #39;ve ever been in an airplane that ha...  ...       0\n",
              "6272  NEW YORK (Reuters) - U.S. stocks rose on Monda...  ...       0\n",
              "3341  US stocks looked to open flat on Thursday unde...  ...       0\n",
              "6067  AP - The United States and Australia have prev...  ...       0\n",
              "4673  NEW YORK (Reuters) - U.S. stocks jumped on Wed...  ...       0\n",
              "4848  VIENNA (Reuters) - Top seed Amelie Mauresmo re...  ...       2\n",
              "6232  Feyenoord boss Ruud Gullit has launched a stin...  ...       2\n",
              "3072  Jim Mora thought his team deserved a little so...  ...       2\n",
              "6007  Motorsport.com. Reports this week suggest that...  ...       2\n",
              "4431  Race fans wave American flags in the stands du...  ...       2\n",
              "1     SPACE.com - TORONTO, Canada -- A second\\team o...  ...       1\n",
              "2     AP - A company founded by a chemistry research...  ...       1\n",
              "3     AP - It's barely dawn when Mike Fitzpatrick st...  ...       1\n",
              "4     AP - Southern California's smog-fighting agenc...  ...       1\n",
              "5     The British Department for Education and Skill...  ...       1\n",
              "32    Canadian Press - VANCOUVER (CP) - The sister o...  ...       3\n",
              "33    AP - The man who claims Gov. James E. McGreeve...  ...       3\n",
              "34    NAJAF, Iraq - Explosions and gunfire rattled t...  ...       3\n",
              "35    LOURDES, France - A frail Pope John Paul II, b...  ...       3\n",
              "36    Supporters and rivals warn of possible fraud; ...  ...       3\n",
              "\n",
              "[20 rows x 5 columns]"
            ]
          },
          "metadata": {
            "tags": []
          },
          "execution_count": 37
        }
      ]
    },
    {
      "cell_type": "code",
      "metadata": {
        "id": "e_UGcmsO-P2k",
        "colab": {
          "base_uri": "https://localhost:8080/",
          "height": 244
        },
        "outputId": "c61967ad-fe4b-436e-950c-f36654b4d3a0"
      },
      "source": [
        "#Using the original full unsampled dataset for predictions\n",
        "\n",
        "data = []\n",
        "\n",
        "for line in open(r'News Classification DataSet.json', 'r'):\n",
        "    data.append(json.loads(line))\n",
        "\n",
        "content, label = [], []\n",
        "for each in data:\n",
        "    content.append(each['content'])\n",
        "    label.append(each['annotation']['label'][0])\n",
        "    \n",
        "df = pd.DataFrame([content, label]).T\n",
        "df.columns= ['content', 'label']\n",
        "\n",
        "#Splitting the df into business and sports articles\n",
        "df_business = df.loc[df['label'] == 'Business'] \n",
        "df_sports = df.loc[df['label'] =='Sports']\n",
        "df_scitech = df.loc[df['label'] == 'SciTech'] \n",
        "df_world = df.loc[df['label'] =='World']\n",
        "\n",
        "#Holding out 5 articles from each class for prediction at the end\n",
        "df_business_holdout = df_business.iloc[:5]\n",
        "df_sports_holdout = df_sports.iloc[:5]\n",
        "df_scitech_holdout = df_scitech.iloc[:5]\n",
        "df_world_holdout = df_world.iloc[:5]\n",
        "\n",
        "df_business = df_business.iloc[5:]\n",
        "df_sports = df_sports.iloc[5:]\n",
        "df_scitech = df_scitech.iloc[5:]\n",
        "df_world = df_world.iloc[5:]\n",
        "\n",
        "#Appending the dfs back together\n",
        "df = pd.concat([df_business, df_sports, df_scitech, df_world])\n",
        "df_holdout = pd.concat([df_business_holdout, df_sports_holdout, df_scitech_holdout, df_world_holdout])\n",
        "\n",
        "df['clean_text'] = df['content'].apply(process_text) \n",
        "\n",
        "#Turning the labels into numbers\n",
        "LE = LabelEncoder()\n",
        "df['label_num'] = LE.fit_transform(df['label'])\n",
        "\n",
        "#Get the text of the 5 articles we held out from each of the categories in the beginning\n",
        "df_holdout['clean_text'] = df_holdout['content'].apply(process_text) \n",
        "unseen = df_holdout['clean_text'].astype('str') \n",
        "\n",
        "#Creating the features (tf-idf weights) for the processed text\n",
        "texts = df['clean_text'].astype('str')\n",
        "\n",
        "tfidf_vectorizer = TfidfVectorizer(ngram_range=(1, 2), \n",
        "                                   min_df = 2, \n",
        "                                   max_df = .95)\n",
        "\n",
        "X = tfidf_vectorizer.fit_transform(texts) #features\n",
        "y = df['label_num'].values #target\n",
        "\n",
        "#Dimenionality reduction. Only using the 100 best features\n",
        "lsa = TruncatedSVD(n_components=100, \n",
        "                   n_iter=10, \n",
        "                   random_state=3)\n",
        "\n",
        "X = lsa.fit_transform(X)\n",
        "\n",
        "#Use the saved models to transform the unseen text with tf-idf and lsa\n",
        "X_unseen_tfidf = tfidf_vectorizer.transform(unseen) \n",
        "X_unseen = lsa.transform(X_unseen_tfidf)\n",
        "\n",
        "#Fit the models with the best params on the full data\n",
        "sgd_best_model.fit(X, y)\n",
        "rf_best_model.fit(X, y)\n",
        "\n",
        "#Make the prediction on the unseen articles with the fitted best models and put it into a df alongside the correct labels\n",
        "df_holdout['pred_sgd'] = sgd_best_model.predict(X_unseen)\n",
        "df_holdout['pred_rf'] = rf_best_model.predict(X_unseen)\n",
        "\n",
        "label_num_dict = {'Business': 0,\n",
        "                  'SciTech': 1,\n",
        "                  'Sports': 2,\n",
        "                  'World': 3}\n",
        "\n",
        "df_holdout['correct'] = df_holdout['label'].map(label_num_dict)\n",
        "df_holdout = df_holdout.drop('clean_text', 1)\n",
        "df_holdout = df_holdout[['content', 'label', 'pred_sgd', 'pred_rf', 'correct']]\n",
        "\n",
        "df_holdout"
      ],
      "execution_count": 2,
      "outputs": [
        {
          "output_type": "error",
          "ename": "FileNotFoundError",
          "evalue": "ignored",
          "traceback": [
            "\u001b[0;31m---------------------------------------------------------------------------\u001b[0m",
            "\u001b[0;31mFileNotFoundError\u001b[0m                         Traceback (most recent call last)",
            "\u001b[0;32m<ipython-input-2-bfc1edcfda0c>\u001b[0m in \u001b[0;36m<module>\u001b[0;34m()\u001b[0m\n\u001b[1;32m      3\u001b[0m \u001b[0mdata\u001b[0m \u001b[0;34m=\u001b[0m \u001b[0;34m[\u001b[0m\u001b[0;34m]\u001b[0m\u001b[0;34m\u001b[0m\u001b[0;34m\u001b[0m\u001b[0m\n\u001b[1;32m      4\u001b[0m \u001b[0;34m\u001b[0m\u001b[0m\n\u001b[0;32m----> 5\u001b[0;31m \u001b[0;32mfor\u001b[0m \u001b[0mline\u001b[0m \u001b[0;32min\u001b[0m \u001b[0mopen\u001b[0m\u001b[0;34m(\u001b[0m\u001b[0;34mr'News Classification DataSet.json'\u001b[0m\u001b[0;34m,\u001b[0m \u001b[0;34m'r'\u001b[0m\u001b[0;34m)\u001b[0m\u001b[0;34m:\u001b[0m\u001b[0;34m\u001b[0m\u001b[0;34m\u001b[0m\u001b[0m\n\u001b[0m\u001b[1;32m      6\u001b[0m     \u001b[0mdata\u001b[0m\u001b[0;34m.\u001b[0m\u001b[0mappend\u001b[0m\u001b[0;34m(\u001b[0m\u001b[0mjson\u001b[0m\u001b[0;34m.\u001b[0m\u001b[0mloads\u001b[0m\u001b[0;34m(\u001b[0m\u001b[0mline\u001b[0m\u001b[0;34m)\u001b[0m\u001b[0;34m)\u001b[0m\u001b[0;34m\u001b[0m\u001b[0;34m\u001b[0m\u001b[0m\n\u001b[1;32m      7\u001b[0m \u001b[0;34m\u001b[0m\u001b[0m\n",
            "\u001b[0;31mFileNotFoundError\u001b[0m: [Errno 2] No such file or directory: 'News Classification DataSet.json'"
          ]
        }
      ]
    }
  ]
}